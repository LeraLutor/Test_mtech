{
 "cells": [
  {
   "cell_type": "markdown",
   "id": "9dc8ba12",
   "metadata": {
    "toc": true
   },
   "source": [
    "<h1>Table of Contents<span class=\"tocSkip\"></span></h1>\n",
    "<div class=\"toc\"><ul class=\"toc-item\"></ul></div>"
   ]
  },
  {
   "cell_type": "code",
   "execution_count": 282,
   "id": "ecf78e8a",
   "metadata": {},
   "outputs": [],
   "source": [
    "#Читение строки\n",
    "with open(\"input.txt\", \"r\") as file:\n",
    "    str1 = file.readline()"
   ]
  },
  {
   "cell_type": "code",
   "execution_count": 283,
   "id": "c0e39533",
   "metadata": {},
   "outputs": [],
   "source": [
    "# Делим строку по комбинациям 1 и 3 элемента\n",
    "def split_string(string):\n",
    "    split_list = []\n",
    "    is_single = True\n",
    "    current_string = \"\"\n",
    "\n",
    "    for char in string:\n",
    "        if is_single:\n",
    "            split_list.append(char)\n",
    "            is_single = False\n",
    "        else:\n",
    "            current_string += char\n",
    "            if len(current_string) == 3:\n",
    "                split_list.append(current_string)\n",
    "                current_string = \"\"\n",
    "                is_single = True\n",
    "\n",
    "    if current_string:\n",
    "        split_list.append(current_string)\n",
    "\n",
    "    return split_list"
   ]
  },
  {
   "cell_type": "code",
   "execution_count": 284,
   "id": "3553aab3",
   "metadata": {},
   "outputs": [],
   "source": [
    "# Объединям по треугольникам\n",
    "def combine_digits(lst):\n",
    "    combined_list = []\n",
    "    n = 1\n",
    "    index = 0\n",
    "    while index < len(lst):\n",
    "        k = n\n",
    "        while k != 0 :\n",
    "            combined_list.append(lst[index]+lst[index+n])\n",
    "            k -=1\n",
    "            index += 1\n",
    "        index = index+n\n",
    "        n += 2       \n",
    "    return combined_list"
   ]
  },
  {
   "cell_type": "code",
   "execution_count": 285,
   "id": "bf45d9f8",
   "metadata": {},
   "outputs": [],
   "source": [
    "# Сжатие строки\n",
    "def compression(st):\n",
    "    if len(st)<4 or len(st)%4 != 0:\n",
    "        return st\n",
    "    st = st[::-1]\n",
    "    lst = split_string(st)\n",
    "    lst = combine_digits(lst)\n",
    "    for i in range(len(lst)):\n",
    "        if lst[i].count(lst[i][0]) == 4:\n",
    "            lst[i] = lst[i][0]\n",
    "    result = ''.join(lst)\n",
    "    return result[::-1]"
   ]
  },
  {
   "cell_type": "code",
   "execution_count": 288,
   "id": "550ce81f",
   "metadata": {},
   "outputs": [],
   "source": [
    "# финальное сжатие\n",
    "def fin_compression(result):\n",
    "    while len(result) >4 or len(result)%4 != 0:\n",
    "        result = compression(result)\n",
    "    return result"
   ]
  },
  {
   "cell_type": "code",
   "execution_count": 289,
   "id": "3036daaa",
   "metadata": {},
   "outputs": [],
   "source": [
    "# Запись в строку\n",
    "with open(\"output.txt\", \"w\") as file2:\n",
    "    file2.write(fin_compression(str1))"
   ]
  },
  {
   "cell_type": "code",
   "execution_count": null,
   "id": "6380f118",
   "metadata": {},
   "outputs": [],
   "source": []
  }
 ],
 "metadata": {
  "kernelspec": {
   "display_name": "Python 3 (ipykernel)",
   "language": "python",
   "name": "python3"
  },
  "language_info": {
   "codemirror_mode": {
    "name": "ipython",
    "version": 3
   },
   "file_extension": ".py",
   "mimetype": "text/x-python",
   "name": "python",
   "nbconvert_exporter": "python",
   "pygments_lexer": "ipython3",
   "version": "3.9.13"
  },
  "toc": {
   "base_numbering": 1,
   "nav_menu": {},
   "number_sections": true,
   "sideBar": true,
   "skip_h1_title": true,
   "title_cell": "Table of Contents",
   "title_sidebar": "Contents",
   "toc_cell": true,
   "toc_position": {},
   "toc_section_display": true,
   "toc_window_display": false
  }
 },
 "nbformat": 4,
 "nbformat_minor": 5
}
